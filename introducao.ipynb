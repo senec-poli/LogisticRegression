{
 "cells": [
  {
   "cell_type": "markdown",
   "metadata": {},
   "source": [
    "# Data Science\n",
    "Tem como objetivo fazer inferências a partir de dados que podem ou não ser estruturados, utilizando métodos cientificos e diferentes competências.\n",
    "\n",
    "## Tecnologia\n",
    "### Banco de Dados\n",
    "- SQL\n",
    "- MongoDB\n",
    "- Cassandra\n",
    "- Hadoop\n",
    "\n",
    "### Linguagens de Programação\n",
    "- R\n",
    "- Julia\n",
    "- Java\n",
    "- Matlab\n",
    "- Python\n"
   ]
  },
  {
   "cell_type": "markdown",
   "metadata": {},
   "source": [
    "# Python\n",
    "## O que é Python?\n",
    "Python é uma linguagem interpretada de programação de propósito geral, open source, orientada a objeto de alto nível.\n",
    "\n",
    "## Por que Python?\n",
    "- Sintaxe simples focada em legibilidade, facilitando a manutenabilidade de código e acelera o processo de desenvolvimento\n",
    "- Comunidade ativa com muitos pacotes prontos focados em Data Science\n",
    "- Extensível em C++ e C"
   ]
  },
  {
   "cell_type": "markdown",
   "metadata": {},
   "source": [
    "## Exemplo de código em C\n",
    "~~~~C\n",
    "int i, j;\n",
    "int a[10];\n",
    "\n",
    "for (i = 0; i < 10; i++) {\n",
    "    a[i] = i * 2;\n",
    "}\n",
    "\n",
    "for (j = 0; j < 10; j++ ) {\n",
    "  printf(\"a[%d] = %d\\n\", j, a[j]);\n",
    "}\n",
    "~~~~"
   ]
  },
  {
   "cell_type": "code",
   "execution_count": 135,
   "metadata": {},
   "outputs": [
    {
     "name": "stdout",
     "output_type": "stream",
     "text": [
      "[0, 2, 4, 6, 8, 10, 12, 14, 16, 18]\n"
     ]
    }
   ],
   "source": [
    "# Exemplo de código em Python\n",
    "a = []\n",
    "\n",
    "for i in range(10):\n",
    "    a.append(i * 2)\n",
    "    \n",
    "print(a)"
   ]
  },
  {
   "cell_type": "code",
   "execution_count": 136,
   "metadata": {},
   "outputs": [
    {
     "name": "stdout",
     "output_type": "stream",
     "text": [
      "[0, 2, 4, 6, 8, 10, 12, 14, 16, 18]\n"
     ]
    }
   ],
   "source": [
    "a = [i * 2 for i in range(10)]\n",
    "\n",
    "print(a)"
   ]
  },
  {
   "cell_type": "markdown",
   "metadata": {},
   "source": [
    "### Recursos\n",
    "Para aprender mais sobre python\n",
    "\n",
    "[learnpython.org]()\n",
    "\n",
    "[Code Academy](https://www.codecademy.com/learn/learn-python)\n"
   ]
  },
  {
   "cell_type": "markdown",
   "metadata": {},
   "source": [
    "# NumPy\n",
    "## O que é NumPy?\n",
    "É uma biblioteca/pacote em *Python* que fornece objetos de *arrays* multidimensionais.\n",
    "\n",
    "## Por que NumPy?\n",
    "- Implementações em C compiladas, isto é, muito mais rápido\n",
    "- Sintaxe simples para trabalhar com operações com vetor e matriz\n",
    "- Múltiplos pacotes científicos e matemáticos utilizando NumPy"
   ]
  },
  {
   "cell_type": "code",
   "execution_count": 137,
   "metadata": {},
   "outputs": [
    {
     "name": "stdout",
     "output_type": "stream",
     "text": [
      "[1, 2, 3, 4, 5, 6, 7, 8]\n"
     ]
    }
   ],
   "source": [
    "# Soma de vetores com list\n",
    "a = [1, 2, 3, 4]\n",
    "b = [5, 6, 7, 8]\n",
    "\n",
    "c = a + b\n",
    "print(c)"
   ]
  },
  {
   "cell_type": "code",
   "execution_count": 138,
   "metadata": {},
   "outputs": [
    {
     "name": "stdout",
     "output_type": "stream",
     "text": [
      "[6, 8, 10, 12]\n"
     ]
    }
   ],
   "source": [
    "c = []\n",
    "for i in range(len(a)):\n",
    "    c.append(a[i] + b[i])\n",
    "    \n",
    "print(c)"
   ]
  },
  {
   "cell_type": "code",
   "execution_count": 5,
   "metadata": {},
   "outputs": [],
   "source": [
    "import numpy as np"
   ]
  },
  {
   "cell_type": "code",
   "execution_count": 6,
   "metadata": {},
   "outputs": [
    {
     "name": "stdout",
     "output_type": "stream",
     "text": [
      "a = [1 2 3 4]\n",
      "b = [5 6 7 8]\n"
     ]
    }
   ],
   "source": [
    "a = np.array([1, 2, 3, 4])\n",
    "b = np.array([5, 6, 7, 8])\n",
    "\n",
    "print(\"a =\", a)\n",
    "print(\"b =\", b)"
   ]
  },
  {
   "cell_type": "code",
   "execution_count": 7,
   "metadata": {},
   "outputs": [
    {
     "name": "stdout",
     "output_type": "stream",
     "text": [
      "c = [ 6  8 10 12]\n"
     ]
    }
   ],
   "source": [
    "c = a + b\n",
    "print(\"c =\", c)"
   ]
  },
  {
   "cell_type": "code",
   "execution_count": 8,
   "metadata": {},
   "outputs": [
    {
     "name": "stdout",
     "output_type": "stream",
     "text": [
      "[1, 2, 3, 4, 1, 2, 3, 4, 1, 2, 3, 4, 1, 2, 3, 4, 1, 2, 3, 4]\n"
     ]
    }
   ],
   "source": [
    "# Multiplicação por escalar\n",
    "a = [1, 2, 3, 4]\n",
    "\n",
    "b = 5 * a\n",
    "\n",
    "print(b)"
   ]
  },
  {
   "cell_type": "code",
   "execution_count": 9,
   "metadata": {},
   "outputs": [
    {
     "name": "stdout",
     "output_type": "stream",
     "text": [
      "[5, 10, 15, 20]\n"
     ]
    }
   ],
   "source": [
    "b = [val * 5 for val in a]\n",
    "\n",
    "print(b)"
   ]
  },
  {
   "cell_type": "code",
   "execution_count": 10,
   "metadata": {},
   "outputs": [
    {
     "name": "stdout",
     "output_type": "stream",
     "text": [
      "[ 5 10 15 20]\n"
     ]
    }
   ],
   "source": [
    "a = np.array([1, 2, 3, 4])\n",
    "b = a * 5\n",
    "\n",
    "print(b)"
   ]
  },
  {
   "cell_type": "code",
   "execution_count": 11,
   "metadata": {},
   "outputs": [
    {
     "data": {
      "text/plain": [
       "[[8, 10, 12], [14, 16, 18]]"
      ]
     },
     "execution_count": 11,
     "metadata": {},
     "output_type": "execute_result"
    }
   ],
   "source": [
    "# Cálculo com Matrizes\n",
    "# Soma de matrizes\n",
    "A = [[1, 2, 3],\n",
    "     [4, 5, 6]]\n",
    "\n",
    "B = [[7,  8,  9],\n",
    "     [10, 11, 12]]\n",
    "\n",
    "C = []\n",
    "for i in range(len(A)):\n",
    "    C.append([])\n",
    "    for j in range(len(A[i])):\n",
    "        C[i].append(A[i][j] + B[i][j])\n",
    "        \n",
    "C\n"
   ]
  },
  {
   "cell_type": "code",
   "execution_count": 12,
   "metadata": {},
   "outputs": [
    {
     "data": {
      "text/plain": [
       "array([[ 8, 10, 12],\n",
       "       [14, 16, 18]])"
      ]
     },
     "execution_count": 12,
     "metadata": {},
     "output_type": "execute_result"
    }
   ],
   "source": [
    "A = np.array([[1, 2, 3],\n",
    "              [4, 5, 6]])\n",
    "\n",
    "B = np.array([[7,  8,  9],\n",
    "              [10, 11, 12]])\n",
    "\n",
    "C = A + B\n",
    "\n",
    "C"
   ]
  },
  {
   "cell_type": "code",
   "execution_count": 13,
   "metadata": {},
   "outputs": [
    {
     "name": "stdout",
     "output_type": "stream",
     "text": [
      "[[], [], []]\n"
     ]
    }
   ],
   "source": [
    "# Transposta\n",
    "A = [[1, 2, 3],\n",
    "     [4, 5, 6]]\n",
    "\n",
    "lines = len(A)\n",
    "rows = len(A[1])\n",
    "\n",
    "AT = [[] for row in range(rows)]\n",
    "\n",
    "print(AT)"
   ]
  },
  {
   "cell_type": "code",
   "execution_count": 14,
   "metadata": {},
   "outputs": [
    {
     "name": "stdout",
     "output_type": "stream",
     "text": [
      "[[1, 4], [2, 5], [3, 6]]\n"
     ]
    }
   ],
   "source": [
    "for i in range(lines):\n",
    "    for j in range(rows):\n",
    "        AT[j].append(A[i][j])\n",
    "\n",
    "print(AT)"
   ]
  },
  {
   "cell_type": "code",
   "execution_count": 15,
   "metadata": {},
   "outputs": [
    {
     "data": {
      "text/plain": [
       "[[1, 4], [2, 5], [3, 6]]"
      ]
     },
     "execution_count": 15,
     "metadata": {},
     "output_type": "execute_result"
    }
   ],
   "source": [
    "A = [[1, 2, 3],\n",
    "     [4, 5, 6]]\n",
    "\n",
    "list(map(list, zip(*A)))"
   ]
  },
  {
   "cell_type": "code",
   "execution_count": 16,
   "metadata": {},
   "outputs": [
    {
     "name": "stdout",
     "output_type": "stream",
     "text": [
      "[[1 4]\n",
      " [2 5]\n",
      " [3 6]]\n"
     ]
    }
   ],
   "source": [
    "A = np.array([[1, 2, 3],\n",
    "              [4, 5, 6]])\n",
    "\n",
    "print(A.T)"
   ]
  },
  {
   "cell_type": "code",
   "execution_count": 18,
   "metadata": {},
   "outputs": [
    {
     "data": {
      "text/plain": [
       "[[0, 0, 0], [0, 0, 0], [0, 0, 0]]"
      ]
     },
     "execution_count": 18,
     "metadata": {},
     "output_type": "execute_result"
    }
   ],
   "source": [
    "# Multiplicação de Matrizes\n",
    "A = [[1, 4],\n",
    "     [2, 5],\n",
    "     [3, 6]]\n",
    "\n",
    "B = [[7,  8,  9],\n",
    "     [10, 11, 12]]\n",
    "\n",
    "C = []\n",
    "\n",
    "for i in range(len(A)):\n",
    "    C.append([])\n",
    "    for j in range(len(B[0])):\n",
    "        C[i].append(0)\n",
    "C"
   ]
  },
  {
   "cell_type": "code",
   "execution_count": 19,
   "metadata": {},
   "outputs": [
    {
     "data": {
      "text/plain": [
       "[[47, 52, 57], [64, 71, 78], [81, 90, 99]]"
      ]
     },
     "execution_count": 19,
     "metadata": {},
     "output_type": "execute_result"
    }
   ],
   "source": [
    "for i in range(len(C)):\n",
    "    for j in range(len(C[i])):\n",
    "        c = 0\n",
    "        for k in range(len(A[i])):\n",
    "            c += A[i][k] * B[k][j]\n",
    "        C[i][j] = c\n",
    "\n",
    "C"
   ]
  },
  {
   "cell_type": "code",
   "execution_count": 155,
   "metadata": {},
   "outputs": [
    {
     "data": {
      "text/plain": [
       "array([[47, 52, 57],\n",
       "       [64, 71, 78],\n",
       "       [81, 90, 99]])"
      ]
     },
     "execution_count": 155,
     "metadata": {},
     "output_type": "execute_result"
    }
   ],
   "source": [
    "A = np.array([[1, 4],\n",
    "              [2, 5],\n",
    "              [3, 6]])\n",
    "\n",
    "B = np.array([[7,  8,  9],\n",
    "              [10, 11, 12]])\n",
    "\n",
    "C = np.dot(A, B)\n",
    "\n",
    "C"
   ]
  },
  {
   "cell_type": "code",
   "execution_count": 20,
   "metadata": {},
   "outputs": [
    {
     "data": {
      "text/plain": [
       "array([False,  True, False,  True, False, False, False, False, False,\n",
       "        True,  True,  True])"
      ]
     },
     "execution_count": 20,
     "metadata": {},
     "output_type": "execute_result"
    }
   ],
   "source": [
    "# Outros operadores\n",
    "# Dado um array de notas quem passou?\n",
    "\n",
    "notas = np.array([4.8, 6, 4.75, 7, 2, 4, 2.5, 4.95, 3.2, 7, 5, 9])\n",
    "\n",
    "notas >= 5"
   ]
  },
  {
   "cell_type": "code",
   "execution_count": 21,
   "metadata": {},
   "outputs": [
    {
     "data": {
      "text/plain": [
       "array([6., 7., 7., 5., 9.])"
      ]
     },
     "execution_count": 21,
     "metadata": {},
     "output_type": "execute_result"
    }
   ],
   "source": [
    "# Quantos alunos passaram?\n",
    "notas[notas >= 5]"
   ]
  },
  {
   "cell_type": "code",
   "execution_count": 22,
   "metadata": {},
   "outputs": [
    {
     "data": {
      "text/plain": [
       "5"
      ]
     },
     "execution_count": 22,
     "metadata": {},
     "output_type": "execute_result"
    }
   ],
   "source": [
    "len(notas[notas >= 5])"
   ]
  },
  {
   "cell_type": "code",
   "execution_count": 23,
   "metadata": {},
   "outputs": [
    {
     "data": {
      "text/plain": [
       "array([ True, False, False, False, False, False, False,  True, False,\n",
       "       False, False, False])"
      ]
     },
     "execution_count": 23,
     "metadata": {},
     "output_type": "execute_result"
    }
   ],
   "source": [
    "# Considerando arrendondamento de notas\n",
    "np.logical_and(notas >= 4.8, notas < 5)"
   ]
  },
  {
   "cell_type": "code",
   "execution_count": 24,
   "metadata": {},
   "outputs": [
    {
     "data": {
      "text/plain": [
       "array([4.8 , 4.95])"
      ]
     },
     "execution_count": 24,
     "metadata": {},
     "output_type": "execute_result"
    }
   ],
   "source": [
    "notas[np.logical_and(notas >= 4.8, notas < 5)]"
   ]
  },
  {
   "cell_type": "code",
   "execution_count": 161,
   "metadata": {},
   "outputs": [
    {
     "data": {
      "text/plain": [
       "array([5.  , 6.  , 4.75, 7.  , 2.  , 4.  , 2.5 , 5.  , 3.2 , 7.  , 5.  ,\n",
       "       9.  ])"
      ]
     },
     "execution_count": 161,
     "metadata": {},
     "output_type": "execute_result"
    }
   ],
   "source": [
    "notas[np.logical_and(notas >= 4.8, notas < 5)] = 5\n",
    "\n",
    "notas"
   ]
  },
  {
   "cell_type": "code",
   "execution_count": 25,
   "metadata": {},
   "outputs": [
    {
     "data": {
      "text/plain": [
       "5"
      ]
     },
     "execution_count": 25,
     "metadata": {},
     "output_type": "execute_result"
    }
   ],
   "source": [
    "# Quantos alunos passaram?\n",
    "len(notas[notas >= 5])"
   ]
  }
 ],
 "metadata": {
  "kernelspec": {
   "display_name": "Python 3",
   "language": "python",
   "name": "python3"
  },
  "language_info": {
   "codemirror_mode": {
    "name": "ipython",
    "version": 3
   },
   "file_extension": ".py",
   "mimetype": "text/x-python",
   "name": "python",
   "nbconvert_exporter": "python",
   "pygments_lexer": "ipython3",
   "version": "3.6.4"
  }
 },
 "nbformat": 4,
 "nbformat_minor": 2
}
