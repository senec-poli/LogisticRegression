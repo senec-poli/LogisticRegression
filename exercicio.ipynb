{
 "cells": [
  {
   "cell_type": "code",
   "execution_count": 6,
   "metadata": {
    "collapsed": true
   },
   "outputs": [],
   "source": [
    "import matplotlib.pyplot as plt\n",
    "from utils import *"
   ]
  },
  {
   "cell_type": "markdown",
   "metadata": {},
   "source": [
    "# Exercicio\n",
    "## Função Sigmoid\n",
    "### Implementação 1\n",
    "Implementação utilizando *Python Standard Library*"
   ]
  },
  {
   "cell_type": "code",
   "execution_count": 7,
   "metadata": {
    "collapsed": true
   },
   "outputs": [],
   "source": [
    "# Biblioteca padrão de funções matemáticas\n",
    "import math\n",
    "\n",
    "def sigmoid1(z):\n",
    "    '''Função retorna sigmoid(z) sendo z um número.\n",
    "    '''\n",
    "    return 1 / (1 + math.exp(-z))"
   ]
  },
  {
   "cell_type": "code",
   "execution_count": 8,
   "metadata": {
    "collapsed": false
   },
   "outputs": [
    {
     "data": {
      "text/plain": [
       "0.9999546021312976"
      ]
     },
     "execution_count": 8,
     "metadata": {},
     "output_type": "execute_result"
    }
   ],
   "source": [
    "# Teste\n",
    "sigmoid1(10)"
   ]
  },
  {
   "cell_type": "code",
   "execution_count": 9,
   "metadata": {
    "collapsed": true
   },
   "outputs": [],
   "source": [
    "def sigmoid_list(z_list):\n",
    "    '''Função retorna um array com sigmoid(z) para z definidos em z_list\n",
    "    '''\n",
    "    rsp = []\n",
    "    for z in z_list:\n",
    "        rsp.append(sigmoid1(z))\n",
    "    # Se quiser pode implementar com List Comprehension\n",
    "    # rsp = [sigmoid(z) for z in z_list]\n",
    "    return rsp"
   ]
  },
  {
   "cell_type": "code",
   "execution_count": 10,
   "metadata": {
    "collapsed": false
   },
   "outputs": [
    {
     "data": {
      "text/plain": [
       "[4.5397868702434395e-05, 0.5, 0.9999546021312976]"
      ]
     },
     "execution_count": 10,
     "metadata": {},
     "output_type": "execute_result"
    }
   ],
   "source": [
    "# Teste\n",
    "sigmoid_list([-10, 0, 10])"
   ]
  },
  {
   "cell_type": "code",
   "execution_count": 11,
   "metadata": {
    "collapsed": false
   },
   "outputs": [
    {
     "data": {
      "text/plain": [
       "[<matplotlib.lines.Line2D at 0x7f4d0863c518>]"
      ]
     },
     "execution_count": 11,
     "metadata": {},
     "output_type": "execute_result"
    },
    {
     "data": {
      "image/png": "[encoded data removed]",
      "text/plain": [
       "<Figure size 432x288 with 1 Axes>"
      ]
     },
     "metadata": {
      "needs_background": "light"
     },
     "output_type": "display_data"
    }
   ],
   "source": [
    "xaxis = [-10 + 0.001 * x for x in range(0, 20001)]\n",
    "yaxis = sigmoid_list(xaxis)\n",
    "plt.plot(xaxis, yaxis)"
   ]
  },
  {
   "cell_type": "markdown",
   "metadata": {},
   "source": [
    "### Implementação 2\n",
    "Utilizando numpy array"
   ]
  },
  {
   "cell_type": "code",
   "execution_count": 12,
   "metadata": {
    "collapsed": true
   },
   "outputs": [],
   "source": [
    "import numpy as np\n",
    "\n",
    "def sigmoid(z):\n",
    "    return 1 / (1 + np.exp(-z))"
   ]
  },
  {
   "cell_type": "code",
   "execution_count": 13,
   "metadata": {
    "collapsed": false
   },
   "outputs": [
    {
     "data": {
      "text/plain": [
       "array([-10,   0,  10])"
      ]
     },
     "execution_count": 13,
     "metadata": {},
     "output_type": "execute_result"
    }
   ],
   "source": [
    "xaxis = np.array([-10, 0, 10])\n",
    "xaxis"
   ]
  },
  {
   "cell_type": "code",
   "execution_count": 14,
   "metadata": {
    "collapsed": false
   },
   "outputs": [
    {
     "data": {
      "text/plain": [
       "array([4.53978687e-05, 5.00000000e-01, 9.99954602e-01])"
      ]
     },
     "execution_count": 14,
     "metadata": {},
     "output_type": "execute_result"
    }
   ],
   "source": [
    "sigmoid(xaxis)"
   ]
  },
  {
   "cell_type": "code",
   "execution_count": 15,
   "metadata": {
    "collapsed": false
   },
   "outputs": [
    {
     "data": {
      "text/plain": [
       "array([-10.   ,  -9.999,  -9.998, ...,   9.998,   9.999,  10.   ])"
      ]
     },
     "execution_count": 15,
     "metadata": {},
     "output_type": "execute_result"
    }
   ],
   "source": [
    "xaxis = np.arange(-10, 10.001, 0.001)\n",
    "xaxis"
   ]
  },
  {
   "cell_type": "code",
   "execution_count": 16,
   "metadata": {
    "collapsed": false
   },
   "outputs": [
    {
     "data": {
      "text/plain": [
       "[<matplotlib.lines.Line2D at 0x7f4d086b4710>]"
      ]
     },
     "execution_count": 16,
     "metadata": {},
     "output_type": "execute_result"
    },
    {
     "data": {
      "image/png": "[encoded data removed]",
      "text/plain": [
       "<Figure size 432x288 with 1 Axes>"
      ]
     },
     "metadata": {
      "needs_background": "light"
     },
     "output_type": "display_data"
    }
   ],
   "source": [
    "yaxis = sigmoid(xaxis)\n",
    "\n",
    "plt.plot(xaxis, yaxis)"
   ]
  },
  {
   "cell_type": "markdown",
   "metadata": {},
   "source": [
    "## Previsão\n",
    "### Implementação 1\n",
    "Implementação utilizando *Python Standard Library*"
   ]
  },
  {
   "cell_type": "code",
   "execution_count": 17,
   "metadata": {
    "collapsed": true
   },
   "outputs": [],
   "source": [
    "def calc_z1(weights, bias, xs):\n",
    "    '''\n",
    "    Retorna valor de z para w*x + bias.\n",
    "    weights -> list de tamanho n\n",
    "    xs -> list de variaveis independentes para tamanho n\n",
    "    bias -> float\n",
    "    '''\n",
    "    n = len(weights)\n",
    "    z = bias\n",
    "    for i in range(n):\n",
    "        z += weights[i] * xs[i]\n",
    "    return z"
   ]
  },
  {
   "cell_type": "code",
   "execution_count": 18,
   "metadata": {
    "collapsed": false
   },
   "outputs": [
    {
     "data": {
      "text/plain": [
       "0.08973919999999996"
      ]
     },
     "execution_count": 18,
     "metadata": {},
     "output_type": "execute_result"
    }
   ],
   "source": [
    "weights = [0.1124579, 0.23106775]\n",
    "bias = -0.3\n",
    "xs = [1, 1.2]\n",
    "calc_z1(weights, bias, xs)"
   ]
  },
  {
   "cell_type": "code",
   "execution_count": 19,
   "metadata": {
    "collapsed": true
   },
   "outputs": [],
   "source": [
    "def calc_z_list(weights, bias, xs_list):\n",
    "    '''\n",
    "    Retorna valores de z em um list\n",
    "    weights -> list de tamanho n\n",
    "    xs_list -> list de list de variaveis independentes tamanho m\n",
    "    bias -> float\n",
    "    '''\n",
    "    z_list = []\n",
    "    for xs in xs_list:\n",
    "        z_list.append(calc_z1(weights, bias, xs))\n",
    "    # Da pra fazer com List Comprehension\n",
    "    # z_list = [calc_z1(weights, bias, xs) for xs in xs_list]\n",
    "    return z_list"
   ]
  },
  {
   "cell_type": "code",
   "execution_count": 20,
   "metadata": {
    "collapsed": false
   },
   "outputs": [
    {
     "data": {
      "text/plain": [
       "[0.08973919999999996, 0.03843181000000001, -0.636758505]"
      ]
     },
     "execution_count": 20,
     "metadata": {},
     "output_type": "execute_result"
    }
   ],
   "source": [
    "weights = [0.1124579, 0.23106775]\n",
    "bias = -0.3\n",
    "xs_list = [[ 1,   1.2],\n",
    "           [-1.1, 2.],\n",
    "           [-3.2, 0.1]]\n",
    "\n",
    "calc_z_list(weights, bias, xs_list)"
   ]
  },
  {
   "cell_type": "code",
   "execution_count": 21,
   "metadata": {
    "collapsed": true
   },
   "outputs": [],
   "source": [
    "def predict1(weights, bias, xs_list):\n",
    "    '''\n",
    "    Retorna a previsão de 0 e 1 para valores de x em xs_list\n",
    "    '''\n",
    "    z_list = calc_z_list(weights, bias, xs_list)\n",
    "    y_list = sigmoid_list(z_list)\n",
    "    prediction = []\n",
    "    for y in y_list:\n",
    "        if y > 0.5:\n",
    "            prediction.append(1)\n",
    "        else:\n",
    "            prediction.append(0)\n",
    "    return prediction\n",
    "    "
   ]
  },
  {
   "cell_type": "code",
   "execution_count": 22,
   "metadata": {
    "collapsed": false
   },
   "outputs": [
    {
     "data": {
      "text/plain": [
       "[1, 1, 0]"
      ]
     },
     "execution_count": 22,
     "metadata": {},
     "output_type": "execute_result"
    }
   ],
   "source": [
    "predict1(weights, bias, xs_list)"
   ]
  },
  {
   "cell_type": "markdown",
   "metadata": {},
   "source": [
    "### Implementação 2\n",
    "Usando numpy array"
   ]
  },
  {
   "cell_type": "code",
   "execution_count": 23,
   "metadata": {
    "collapsed": true
   },
   "outputs": [],
   "source": [
    "def calc_z(weights, bias, X):\n",
    "    '''\n",
    "    Retorna valor de z = weights.T * X + bias.\n",
    "    weights -> numpy array de shape (dimensões) (n, 1)\n",
    "    bias -> float, escalar\n",
    "    X -> numpy array de shape (dimensão) (n, m)\n",
    "    \n",
    "    n -> número de features\n",
    "    m -> número de exemplos\n",
    "    '''\n",
    "    return np.dot(weights.T, X) + bias"
   ]
  },
  {
   "cell_type": "code",
   "execution_count": 24,
   "metadata": {
    "collapsed": false
   },
   "outputs": [
    {
     "data": {
      "text/plain": [
       "array([[ 0.0897392 ,  0.03843181, -0.6367585 ]])"
      ]
     },
     "execution_count": 24,
     "metadata": {},
     "output_type": "execute_result"
    }
   ],
   "source": [
    "weights = np.array([[0.1124579],\n",
    "                    [0.23106775]])\n",
    "bias = -0.3\n",
    "\n",
    "X = np.array([[1.,  -1.1, -3.2],\n",
    "              [1.2,  2.,   0.1]])\n",
    "\n",
    "calc_z(weights, bias, X)"
   ]
  },
  {
   "cell_type": "code",
   "execution_count": 25,
   "metadata": {
    "collapsed": true
   },
   "outputs": [],
   "source": [
    "def predict(weights, bias, X):\n",
    "    z = calc_z(weights, bias, X)\n",
    "    prediction = sigmoid(z)\n",
    "    prediction[prediction > 0.5] = 1\n",
    "    prediction[prediction <= 0.5] = 0\n",
    "    return prediction"
   ]
  },
  {
   "cell_type": "code",
   "execution_count": 26,
   "metadata": {
    "collapsed": false
   },
   "outputs": [
    {
     "data": {
      "text/plain": [
       "array([[1., 1., 0.]])"
      ]
     },
     "execution_count": 26,
     "metadata": {},
     "output_type": "execute_result"
    }
   ],
   "source": [
    "predict(weights, bias, X)"
   ]
  },
  {
   "cell_type": "code",
   "execution_count": null,
   "metadata": {
    "collapsed": true
   },
   "outputs": [],
   "source": []
  }
 ],
 "metadata": {
  "kernelspec": {
   "display_name": "Python [py36_jupyter]",
   "language": "python",
   "name": "Python [py36_jupyter]"
  },
  "language_info": {
   "codemirror_mode": {
    "name": "ipython",
    "version": 3
   },
   "file_extension": ".py",
   "mimetype": "text/x-python",
   "name": "python",
   "nbconvert_exporter": "python",
   "pygments_lexer": "ipython3",
   "version": "3.6.8"
  }
 },
 "nbformat": 4,
 "nbformat_minor": 2
}
